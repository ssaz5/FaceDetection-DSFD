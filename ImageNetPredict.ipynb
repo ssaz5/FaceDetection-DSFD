{
 "cells": [
  {
   "cell_type": "code",
   "execution_count": 1,
   "metadata": {},
   "outputs": [],
   "source": [
    "from __future__ import print_function \n",
    "import sys\n",
    "import os\n",
    "import argparse\n",
    "import torch\n",
    "import torch.nn as nn\n",
    "import torch.backends.cudnn as cudnn\n",
    "import torchvision.transforms as transforms\n",
    "from torch.autograd import Variable\n",
    "from data import WIDERFace_ROOT , WIDERFace_CLASSES as labelmap\n",
    "from PIL import Image\n",
    "from data import WIDERFaceDetection, WIDERFaceAnnotationTransform, WIDERFace_CLASSES, WIDERFace_ROOT, BaseTransform , TestBaseTransform\n",
    "from data import *\n",
    "import torch.utils.data as data\n",
    "from face_ssd import build_ssd\n",
    "#from resnet50_ssd import build_sfd\n",
    "import pdb\n",
    "import numpy as np\n",
    "import cv2\n",
    "import math\n",
    "import matplotlib.pyplot as plt\n",
    "import time\n",
    "import copy\n",
    "\n",
    "import joblib\n",
    "\n",
    "import torchvision\n",
    "\n",
    "\n",
    "from utils.infer_utils import *\n",
    "\n",
    "\n",
    "%load_ext autoreload\n",
    "%autoreload 2\n",
    "\n",
    "\n",
    "\n",
    "# os.environ[\"CUDA_DEVICE_ORDER\"] = \"PCI_BUS_ID\"\n",
    "# os.environ[\"CUDA_VISIBLE_DEVICES\"] = \"0,1,2,3,4,5,6\""
   ]
  },
  {
   "cell_type": "code",
   "execution_count": 2,
   "metadata": {},
   "outputs": [
    {
     "name": "stdout",
     "output_type": "stream",
     "text": [
      "[    0     1     2 ... 32765 32766 32767]\n"
     ]
    }
   ],
   "source": [
    "WIDERFace_CLASSES = ['face']\n",
    "trained_model = './weights/WIDERFace_DSFD_RES152.pth'\n",
    "cuda = True\n",
    "img_root = './data/worlds-largest-selfie.jpg'\n",
    "save_folder = 'eval_tools/'\n",
    "visual_threshold = 0.95\n",
    "IMG_Size = 320\n",
    "max_im = 1000\n",
    "start_idx = 0\n",
    "num_images = 32768\n",
    "end_idx = start_idx+num_images\n",
    "indices = np.arange(start_idx,end_idx)\n",
    "print(indices)\n",
    "BATCH_SIZE = 120\n",
    "NUM_WORKERS = 16\n",
    "PIN_MEMORY = True\n",
    "\n",
    "\n",
    "shrink = 1\n",
    "st = 0.5\n",
    "bt = 2\n",
    "max_im_shrink = max_im/IMG_Size\n",
    "\n",
    "small_box_thresh = 15\n",
    "\n",
    "\n",
    "means = (104, 117, 123)\n",
    "means = torch.from_numpy(np.array(means))\n",
    "means = means.unsqueeze(-1)\n",
    "means = means.unsqueeze(-1)\n",
    "\n",
    "\n",
    "\n",
    "cfg = widerface_640\n",
    "thresh = cfg['conf_thresh']\n",
    "\n",
    "\n",
    "load_pkl = False\n",
    "split = 'val'\n",
    "\n",
    "subset_size = 65536\n",
    "start_idx = 0  "
   ]
  },
  {
   "cell_type": "code",
   "execution_count": 3,
   "metadata": {},
   "outputs": [
    {
     "data": {
      "text/plain": [
       "True"
      ]
     },
     "execution_count": 3,
     "metadata": {},
     "output_type": "execute_result"
    }
   ],
   "source": [
    "torch.cuda.is_available()"
   ]
  },
  {
   "cell_type": "code",
   "execution_count": 4,
   "metadata": {},
   "outputs": [],
   "source": [
    "torch.multiprocessing.set_start_method(\"spawn\")\n",
    "\n",
    "if cuda and torch.cuda.is_available():\n",
    "    torch.set_default_tensor_type('torch.cuda.FloatTensor')\n",
    "else:\n",
    "    torch.set_default_tensor_type('torch.FloatTensor')"
   ]
  },
  {
   "cell_type": "markdown",
   "metadata": {},
   "source": [
    "## Make data loaders with and without resizing"
   ]
  },
  {
   "cell_type": "code",
   "execution_count": 6,
   "metadata": {},
   "outputs": [],
   "source": [
    "# transform_base = transforms.Compose([\n",
    "#     # you can add other transformations in this list\n",
    "# #     transforms.Resize((IMG_Size,IMG_Size)),\n",
    "#     transforms.ToTensor()\n",
    "    \n",
    "# ])\n",
    "\n",
    "transform_a = transforms.Compose([\n",
    "    # you can add other transformations in this list\n",
    "    transforms.Resize((IMG_Size,IMG_Size)),\n",
    "    transforms.ToTensor()\n",
    "    \n",
    "])\n",
    "\n",
    "# transform_b = transforms.Compose([\n",
    "#     # you can add other transformations in this list\n",
    "#     transforms.Resize((IMG_Size,IMG_Size)),\n",
    "#     transforms.RandomHorizontalFlip(p=1.0),\n",
    "#     transforms.ToTensor(),\n",
    "    \n",
    "# ])\n",
    "\n",
    "# transform_c = transforms.Compose([\n",
    "#     # you can add other transformations in this list\n",
    "#     transforms.Resize((int(IMG_Size/2),int(IMG_Size/2))),\n",
    "#     transforms.ToTensor()\n",
    "    \n",
    "# ])\n",
    "\n",
    "# transform_d = transforms.Compose([\n",
    "#     # you can add other transformations in this list\n",
    "#     transforms.Resize((int(IMG_Size*2),int(IMG_Size*2))),\n",
    "#     transforms.ToTensor()\n",
    "    \n",
    "# ])\n",
    "\n",
    "\n",
    "# transform_e = transforms.Compose([\n",
    "#     # you can add other transformations in this list\n",
    "#     transforms.Resize((max_im,max_im)),\n",
    "#     transforms.ToTensor()\n",
    "    \n",
    "# ])\n",
    "\n",
    "\n",
    "\n",
    "\n",
    "\n",
    "\n",
    "if load_pkl:\n",
    "\n",
    "    # Load saved\n",
    "    imagenet_data = joblib.load('imagenet_data'+split+'.pkl')\n",
    "    # imagenet_data = torch.utils.data.Subset(imagenet_data, indices)\n",
    "else:\n",
    "    imagenet_data = torchvision.datasets.ImageNet('./data/ImageNet/', split=split, transform=transform_a)\n",
    "    joblib.dump(imagenet_data, 'imagenet_data'+split+'.pkl')\n",
    "\n",
    "\n",
    "\n",
    "\n",
    "\n",
    "imagenet_dataset_a = copy.copy(imagenet_data)\n",
    "# imagenet_dataset_b = copy.copy(imagenet_data)\n",
    "# imagenet_dataset_c = copy.copy(imagenet_data) \n",
    "# imagenet_dataset_d = copy.copy(imagenet_data)\n",
    "# imagenet_dataset_e = copy.copy(imagenet_data)\n",
    "\n",
    "imagenet_dataset_a.transform = transform_a\n",
    "# imagenet_dataset_b.transform = transform_b\n",
    "# imagenet_dataset_c.transform = transform_c\n",
    "# imagenet_dataset_d.transform = transform_d\n",
    "# imagenet_dataset_e.transform = transform_e\n",
    "\n",
    "\n",
    "imagenet_data_a = torch.utils.data.Subset(imagenet_dataset_a, indices)\n",
    "# imagenet_data_b = torch.utils.data.Subset(imagenet_dataset_b, indices)\n",
    "# imagenet_data_c = torch.utils.data.Subset(imagenet_dataset_c, indices)\n",
    "# imagenet_data_d = torch.utils.data.Subset(imagenet_dataset_d, indices)\n",
    "# imagenet_data_e = torch.utils.data.Subset(imagenet_dataset_e, indices)\n",
    "\n",
    "data_loader_a = torch.utils.data.DataLoader(imagenet_data_a,\n",
    "                                          batch_size=BATCH_SIZE,\n",
    "                                          shuffle=False,\n",
    "                                          num_workers=NUM_WORKERS, pin_memory=PIN_MEMORY)\n",
    "\n",
    "\n",
    "# data_loader_b = torch.utils.data.DataLoader(imagenet_data_b,\n",
    "#                                           batch_size=BATCH_SIZE,\n",
    "#                                           shuffle=False,\n",
    "#                                           num_workers=NUM_WORKERS, pin_memory=PIN_MEMORY)\n",
    "\n",
    "\n",
    "# data_loader_c = torch.utils.data.DataLoader(imagenet_data_c,\n",
    "#                                           batch_size=BATCH_SIZE,\n",
    "#                                           shuffle=False,\n",
    "#                                           num_workers=NUM_WORKERS, pin_memory=PIN_MEMORY)\n",
    "\n",
    "\n",
    "# data_loader_d = torch.utils.data.DataLoader(imagenet_data_d,\n",
    "#                                           batch_size=BATCH_SIZE,\n",
    "#                                           shuffle=False,\n",
    "#                                           num_workers=NUM_WORKERS, pin_memory=PIN_MEMORY)\n",
    "\n",
    "\n",
    "# data_loader_e = torch.utils.data.DataLoader(imagenet_data_e,\n",
    "#                                           batch_size=BATCH_SIZE,\n",
    "#                                           shuffle=False,\n",
    "#                                           num_workers=NUM_WORKERS, pin_memory=PIN_MEMORY)\n",
    "\n",
    "length_imagenet = len(imagenet_data)"
   ]
  },
  {
   "cell_type": "code",
   "execution_count": 7,
   "metadata": {},
   "outputs": [],
   "source": [
    "# imagenet_data_a = torch.utils.data.Subset(imagenet_data_a, indices)\n",
    "# imagenet_ = torch.utils.data.Subset(imagenet_data, indices)\n",
    "# print(imagenet_data_a)"
   ]
  },
  {
   "cell_type": "code",
   "execution_count": 12,
   "metadata": {},
   "outputs": [
    {
     "name": "stdout",
     "output_type": "stream",
     "text": [
      "<torch.utils.data.dataset.Subset object at 0x2b9d558a1c88>\n",
      "torch.Size([3, 320, 320])\n"
     ]
    },
    {
     "data": {
      "image/png": "[encoded data removed]",
      "text/plain": [
       "<Figure size 432x288 with 1 Axes>"
      ]
     },
     "metadata": {
      "needs_background": "light"
     },
     "output_type": "display_data"
    }
   ],
   "source": [
    "# plt.imshow(data_loader_a.dataset[88][0].permute(1,2,0))\n",
    "plt.imshow(imagenet_data[35][0].permute(1,2,0))\n",
    "print(data_loader_a.dataset)\n",
    "\n",
    "print(imagenet_data_a[1][0].shape)"
   ]
  },
  {
   "cell_type": "markdown",
   "metadata": {},
   "source": [
    "## Load pretrained network (resnet152)"
   ]
  },
  {
   "cell_type": "code",
   "execution_count": 13,
   "metadata": {},
   "outputs": [
    {
     "name": "stdout",
     "output_type": "stream",
     "text": [
      "loading pretrained resnet model\n",
      "Finished loading model!\n"
     ]
    }
   ],
   "source": [
    "\n",
    "num_classes = len(WIDERFace_CLASSES) + 1 # +1 background\n",
    "net = build_ssd('test', cfg['min_dim'], num_classes) # initialize SSD\n",
    "net.load_state_dict(torch.load(trained_model))\n",
    "\n",
    "if torch.cuda.device_count() > 1:  \n",
    "    net = nn.DataParallel(net) #enabling data parallelism\n",
    "\n",
    "net.cuda()\n",
    "\n",
    "net.eval()\n",
    "print('Finished loading model!')"
   ]
  },
  {
   "cell_type": "code",
   "execution_count": 14,
   "metadata": {},
   "outputs": [
    {
     "data": {
      "text/plain": [
       "10240"
      ]
     },
     "execution_count": 14,
     "metadata": {},
     "output_type": "execute_result"
    }
   ],
   "source": [
    "indices = np.arange(0,10240)\n",
    "# imagenet_data_a = torch.utils.data.Subset(imagenet_dataset_a, indices)\n",
    "# data_loader_a = torch.utils.data.DataLoader(imagenet_data_a,\n",
    "#                                           batch_size=BATCH_SIZE,\n",
    "#                                           shuffle=False,\n",
    "#                                           num_workers=NUM_WORKERS, pin_memory=PIN_MEMORY)\n",
    "\n",
    "imagenet_data_a.indices =  indices\n",
    "\n",
    "len(data_loader_a.dataset)"
   ]
  },
  {
   "cell_type": "code",
   "execution_count": 15,
   "metadata": {},
   "outputs": [
    {
     "name": "stdout",
     "output_type": "stream",
     "text": [
      "[    0 50000] 2\n"
     ]
    }
   ],
   "source": [
    "\n",
    "index_array = np.append(np.arange(start_idx, length_imagenet, subset_size), length_imagenet)\n",
    "print(index_array, len(index_array))"
   ]
  },
  {
   "cell_type": "code",
   "execution_count": 16,
   "metadata": {},
   "outputs": [],
   "source": [
    "# # index_array = index_array/100\n",
    "# # index_array = index_array.astype('int32')\n",
    "# # i = 10\n",
    "# # st = index_array[i]\n",
    "# # end = index_array[i+1]\n",
    "# # print('iteration number ',str(i),' finished')\n",
    "\n",
    "\n",
    "\n",
    "# index_array = np.delete(index_array, 0)\n",
    "# print(index_array)"
   ]
  },
  {
   "cell_type": "markdown",
   "metadata": {},
   "source": [
    "## Inference on Batches"
   ]
  },
  {
   "cell_type": "code",
   "execution_count": null,
   "metadata": {},
   "outputs": [
    {
     "name": "stderr",
     "output_type": "stream",
     "text": [
      "/home/suleman/anaconda/lib/python3.7/site-packages/torch/nn/functional.py:2539: UserWarning: Default upsampling behavior when mode=bilinear is changed to align_corners=False since 0.4.0. Please specify align_corners=True if the old behavior is desired. See the documentation of nn.Upsample for details.\n",
      "  \"See the documentation of nn.Upsample for details.\".format(mode))\n",
      "/home/suleman/anaconda/lib/python3.7/site-packages/torch/nn/functional.py:2457: UserWarning: nn.functional.upsample is deprecated. Use nn.functional.interpolate instead.\n",
      "  warnings.warn(\"nn.functional.upsample is deprecated. Use nn.functional.interpolate instead.\")\n"
     ]
    }
   ],
   "source": [
    "for i in range(len(index_array)-1):\n",
    "    start = index_array[i]\n",
    "    end = index_array[i+1]\n",
    "    indices = np.arange(start, end)\n",
    "    imagenet_data_a.indices =  indices\n",
    "    all_dets = infer_data_loader(data_loader_a,net, means, thresh, visual_threshold, cuda, shrink, st, bt, max_im_shrink, small_box_thresh)\n",
    "    joblib.dump(all_dets, 'imagenet_bboxes_'+split+'_'+str(start)+'_to_'+str(end)+'.pkl')\n",
    "    print('iteration number ',str(i),' finished')"
   ]
  },
  {
   "cell_type": "code",
   "execution_count": null,
   "metadata": {},
   "outputs": [],
   "source": [
    "data_loader_a = torch.utils.data.DataLoader(imagenet_data_a,\n",
    "                                          batch_size=120,\n",
    "                                          shuffle=False,\n",
    "                                          num_workers=NUM_WORKERS, pin_memory=PIN_MEMORY)"
   ]
  },
  {
   "cell_type": "code",
   "execution_count": null,
   "metadata": {},
   "outputs": [],
   "source": [
    "start = time.time()\n",
    "\n",
    "all_dets = []\n",
    "\n",
    "data = []\n",
    "\n",
    "with torch.no_grad():\n",
    "    for idx, b0 in enumerate(data_loader_a ):\n",
    "    #         print(batch.shape, type(batch))\n",
    "        end = time.time()\n",
    "        print(end-start, idx)\n",
    "        start = time.time()\n",
    "        b0 = 255*b0[0].float() - means.float()\n",
    "        b0 = Variable(b0)\n",
    "        b0 = b0.cuda()\n",
    "#         break\n",
    "#         if idx == 0:\n",
    "#             data = b0\n",
    "#         else:\n",
    "#             data = torch.cat((data,b0))\n",
    "        \n",
    "        b1 = b0.flip(-1)\n",
    "        b2 = torch.nn.functional.interpolate(b0, scale_factor=st, mode='bilinear')\n",
    "        b3 = torch.nn.functional.interpolate(b0, scale_factor=bt, mode='bilinear')\n",
    "        \n",
    "        \n",
    "        \n",
    "        det_0 = infer_batch(net, b0, means, thresh, cuda, shrink)\n",
    "\n",
    "        \n",
    "        det_1 = infer_batch(net, b1, means, thresh, cuda, shrink)\n",
    "\n",
    "        \n",
    "        det_s = infer_batch(net, b2, means, thresh, cuda, st)\n",
    "                \n",
    "        det_b1 = infer_batch(net, b3, means, thresh, cuda, bt)\n",
    "        \n",
    "\n",
    "\n",
    "#         b1 = torch.nn.functional.interpolate(b0, scale_factor=max_im_shrink, mode='bilinear')\n",
    "#         det_b2 = infer_batch(net, b1, means, thresh, cuda, max_im_shrink)\n",
    "#         dets_b = [np.row_stack(i) for i in zip(det_to_dets(det_b1, thresh), det_to_dets(det_b2, thresh) )]\n",
    "\n",
    "        dets_b = det_to_dets(det_b1, thresh)\n",
    "\n",
    "        dets_0 = det_to_dets(det_0, thresh)\n",
    "        dets_1 = flip_batch(det_to_dets(det_1, thresh))\n",
    "        dets_s = det_to_dets(det_s, thresh)\n",
    "        \n",
    "        index = [np.where(np.maximum(i[..., 2] - i[..., 0] + 1, i[..., 3] - i[..., 1] + 1) > small_box_thresh)[0] for i in dets_s]\n",
    "        dets_s = [i[j, :] for i,j in zip(dets_s, index)]\n",
    "        \n",
    "        dets = [np.row_stack((i0, i1, i_s, i_b)) for i0, i1, i_s, i_b in zip(dets_0,dets_1,dets_s,dets_b)]\n",
    "        \n",
    "        all_dets = all_dets + [bbox_vote(det, visual_threshold) for det in dets]\n",
    "        end = time.time()\n",
    "        print(end-start, idx)\n",
    "        break\n",
    "        start = time.time()\n",
    "        \n",
    "        \n",
    "        \n",
    "                \n",
    "end = time.time()\n",
    "print('Total time taken is: ', end-start)"
   ]
  },
  {
   "cell_type": "code",
   "execution_count": null,
   "metadata": {},
   "outputs": [],
   "source": [
    "print(b3)"
   ]
  },
  {
   "cell_type": "code",
   "execution_count": null,
   "metadata": {},
   "outputs": [],
   "source": [
    "joblib.dump(all_dets, 'temp_save.pkl')"
   ]
  },
  {
   "cell_type": "markdown",
   "metadata": {},
   "source": [
    "## Correct Boxes for Image Shape"
   ]
  },
  {
   "cell_type": "code",
   "execution_count": null,
   "metadata": {},
   "outputs": [],
   "source": [
    "shapes = np.loadtxt('imagenet_shapes_0_to_100000.csv', delimiter=',')\n",
    "shapes = shapes[indices]"
   ]
  },
  {
   "cell_type": "code",
   "execution_count": null,
   "metadata": {},
   "outputs": [],
   "source": [
    "indices = np.arange(0,1000)\n",
    "dets = all_dets[0:1000]"
   ]
  },
  {
   "cell_type": "code",
   "execution_count": null,
   "metadata": {},
   "outputs": [],
   "source": [
    "shapes_ = np.repeat(shapes, 2,axis=1)\n",
    "print(np.ones((shapes_.shape[0],1)).shape, shapes_.shape)\n",
    "shapes_ = np.concatenate((shapes_/IMG_Size, np.ones((shapes_.shape[0],1))), axis=1)\n",
    "print(shapes_.shape)"
   ]
  },
  {
   "cell_type": "code",
   "execution_count": null,
   "metadata": {},
   "outputs": [],
   "source": []
  },
  {
   "cell_type": "code",
   "execution_count": null,
   "metadata": {},
   "outputs": [],
   "source": [
    "for i, det in enumerate(dets):\n",
    "    dets[i] = det * shapes_[i]"
   ]
  },
  {
   "cell_type": "code",
   "execution_count": null,
   "metadata": {},
   "outputs": [],
   "source": [
    "dets"
   ]
  },
  {
   "cell_type": "code",
   "execution_count": null,
   "metadata": {},
   "outputs": [],
   "source": [
    "dets = [np.row_stack((i0, i1, i_s, i_b)) for i0, i1, i_s, i_b in zip(dets_0,dets_1,dets_s,dets_b)]\n",
    "visual_threshold = 0.95\n",
    "all_dets = [bbox_vote(det, visual_threshold) for det in dets_b]\n",
    "\n",
    "type(dets), len(dets)\n",
    "type(dets_0[0]), len(dets_0)"
   ]
  },
  {
   "cell_type": "code",
   "execution_count": null,
   "metadata": {},
   "outputs": [],
   "source": [
    "offset = 15\n",
    "for i in range(16):\n",
    "#     ax = plt.subplot(4,4,i+1)\n",
    "    vis_detections(imagenet_data_a[i+offset][0].permute(1,2,0) , all_dets[i+offset] , 'img_id', 0.9, plot_only=True)\n",
    "    print( all_dets[i+offset])\n",
    "    \n",
    "    \n",
    "    \n",
    "    \n",
    "# plt.imshow(imagenet_data_a[0][0].permute(1,2,0) )"
   ]
  },
  {
   "cell_type": "code",
   "execution_count": null,
   "metadata": {},
   "outputs": [],
   "source": [
    "all_dets[i+2]"
   ]
  },
  {
   "cell_type": "markdown",
   "metadata": {},
   "source": [
    "## Experimental Code Below"
   ]
  },
  {
   "cell_type": "code",
   "execution_count": null,
   "metadata": {},
   "outputs": [],
   "source": [
    "\n",
    "start = time.time()\n",
    "\n",
    "all_dets = []\n",
    "\n",
    "data = []\n",
    "\n",
    "\n",
    "\n",
    "with torch.no_grad():\n",
    "    for idx, (b0,b1,b2,b3,b4) in enumerate(zip(data_loader_a,data_loader_b,data_loader_c,data_loader_d,data_loader_e )):\n",
    "    #         print(batch.shape, type(batch))\n",
    "        \n",
    "        b0 = b0[0]\n",
    "        b1 = b1[0]\n",
    "        b2 = b2[0]\n",
    "        b3 = b3[0]\n",
    "        b4 = b4[0]\n",
    "        \n",
    "        \n",
    "        det_0 = infer_batch(net, b0, means, thresh, cuda, shrink)\n",
    "        det_1 = infer_batch(net, b1, means, thresh, cuda, shrink)      \n",
    "        det_s = infer_batch(net, b2, means, thresh, cuda, st)     \n",
    "        det_b1 = infer_batch(net, b3, means, thresh, cuda, bt)\n",
    "        det_b2 = infer_batch(net, b4, means, thresh, cuda, max_im_shrink)\n",
    "        dets_b = [np.row_stack(i) for i in zip(det_to_dets(det_b1, thresh), det_to_dets(det_b2, thresh) )]\n",
    "#         dets_b = det_to_dets(det_b1, thresh)\n",
    "        # det_s post processing\n",
    "\n",
    "        \n",
    "        index = [np.where(np.maximum(i[..., 2] - i[..., 0] + 1, i[..., 3] - i[..., 1] + 1) > small_box_thresh)[0] for i in dets_s]\n",
    "        dets_s = [i[j, :] for i,j in zip(dets_s, index)]\n",
    "\n",
    "        \n",
    "\n",
    "        dets = [np.row_stack((i0, i1, i_s, i_b)) for i0, i1, i_s, i_b in zip(dets_0,dets_1,dets_s,dets_b)]\n",
    "        \n",
    "        \n",
    "        all_dets = all_dets + [bbox_vote(det) for det in dets]\n",
    "        \n",
    "        if idx == 100:\n",
    "            joblib.dump(all_dets, 'imagenet_bbox_'+str(idx)+'.pkl')\n",
    "            all_dets = []\n",
    "\n",
    "        \n",
    "        \n",
    "        if (idx+1)  %1000 == 0:\n",
    "            joblib.dump(all_dets, 'imagenet_bbox_'+str(idx)+'.pkl')\n",
    "            all_dets = []\n",
    "            \n",
    "                \n",
    "end = time.time()\n",
    "print('Total time taken is: ', end-start)"
   ]
  },
  {
   "cell_type": "code",
   "execution_count": null,
   "metadata": {},
   "outputs": [],
   "source": []
  },
  {
   "cell_type": "code",
   "execution_count": null,
   "metadata": {},
   "outputs": [],
   "source": [
    "# imagenet_data_a.indices = np.arange(10000,20000)\n",
    "# imagenet_data_a.indices = np.arange(0,10000)\n",
    "# data_loader_a = torch.utils.data.DataLoader(imagenet_data_a,\n",
    "#                                           batch_size=16,\n",
    "#                                           shuffle=False,\n",
    "#                                           num_workers=20, pin_memory=False)\n",
    "\n",
    "start = time.time()\n",
    "\n",
    "with torch.no_grad():\n",
    "    for idx, (b0,b1,b2,b3,b4) in enumerate(zip(data_loader_a,data_loader_b,data_loader_c,data_loader_d,data_loader_e )):\n",
    "    #         print(batch.shape, type(batch))\n",
    "        \n",
    "        b0 = b0[0]\n",
    "        b1 = b1[0]\n",
    "        b2 = b2[0]\n",
    "        b3 = b3[0]\n",
    "        b4 = b4[0]\n",
    "        break\n",
    "#     for idx, b0 in enumerate(data_loader_a):\n",
    "#         b0 = b0[0]\n",
    "#         break\n",
    "#         if idx > 50:\n",
    "#             break\n",
    "    \n",
    "end = time.time()\n",
    "\n",
    "print('Time:', end - start)\n",
    "plt.imshow(b0[0].permute(1,2,0))"
   ]
  },
  {
   "cell_type": "code",
   "execution_count": null,
   "metadata": {},
   "outputs": [],
   "source": [
    "all_dets = []\n",
    "\n",
    "data = []\n",
    "\n",
    "start = time.time()\n",
    "\n",
    "det_0 = infer_batch(net, b0, means, thresh, cuda, shrink)\n",
    "det_1 = infer_batch(net, b1, means, thresh, cuda, shrink)      \n",
    "det_s = infer_batch(net, b2, means, thresh, cuda, st)     \n",
    "det_b1 = infer_batch(net, b3, means, thresh, cuda, bt)\n",
    "# det_b2 = infer_batch(net, b4, means, thresh, cuda, max_im_shrink)\n",
    "# dets_b = [np.row_stack(i) for i in zip(det_to_dets(det_b1, thresh), det_to_dets(det_b2, thresh) )]\n",
    "dets_b = det_to_dets(det_b1, thresh)\n",
    "# det_s post processing\n",
    "dets_0 = det_to_dets(det_0, thresh)\n",
    "dets_1 = flip_batch(det_to_dets(det_1, thresh))\n",
    "dets_s = det_to_dets(det_s, thresh)\n",
    "\n",
    "index = [np.where(np.maximum(i[..., 2] - i[..., 0] + 1, i[..., 3] - i[..., 1] + 1) > small_box_thresh)[0] for i in dets_s]\n",
    "dets_s = [i[j, :] for i,j in zip(dets_s, index)]\n",
    "\n",
    "\n",
    "\n",
    "dets = [np.row_stack((i0, i1, i_s, i_b)) for i0, i1, i_s, i_b in zip(dets_0,dets_1,dets_s,dets_b)]\n",
    "\n",
    "\n",
    "all_dets = all_dets + [bbox_vote(det, thresh) for det in dets]\n",
    "\n",
    "\n",
    "end = time.time()\n",
    "print('Total time taken is: ', end-start)"
   ]
  },
  {
   "cell_type": "code",
   "execution_count": null,
   "metadata": {},
   "outputs": [],
   "source": [
    "len(dets[0])"
   ]
  },
  {
   "cell_type": "code",
   "execution_count": null,
   "metadata": {},
   "outputs": [],
   "source": [
    "# d = np.concatenate(data, axis=0)\n",
    "# d.shape\n",
    "\n",
    "# np.save('first352.npy', d)\n",
    "# torch.save(data, 'pytorch_data.pkl')\n",
    "# data = torch.load('pytorch_data.pkl')\n",
    "\n",
    "# d = np.load('first352.npy')\n",
    "\n",
    "data = data.cpu()\n",
    "\n",
    "print(data.device)"
   ]
  },
  {
   "cell_type": "code",
   "execution_count": null,
   "metadata": {},
   "outputs": [],
   "source": [
    "\n",
    "start = time.time()\n",
    "\n",
    "all_dets = []\n",
    "\n",
    "# data = []\n",
    "b_size = 16\n",
    "\n",
    "int_mode = 'nearest'\n",
    "\n",
    "with torch.no_grad():\n",
    "    for idx in range(10):\n",
    "    #         print(batch.shape, type(batch))\n",
    "#         b0 = torch.from_numpy(d[idx*16:(idx+1)*16,...])\n",
    "        b0 = data[idx*16:(idx+1)*16,...]\n",
    "        print(b0.device)\n",
    "        \n",
    "        max_im_shrink = 2000/IMG_Size\n",
    "\n",
    "        shrink = 1\n",
    "        print('start')\n",
    "        dets0 = infer_batch(net, b0, means, thresh, cuda, shrink)\n",
    "        print('stop')\n",
    "        b1 = b0.flip(-1)\n",
    "        print('start')\n",
    "        dets1 = infer_flip_batch(net, b1, means, thresh, cuda, shrink)\n",
    "        print('stop')\n",
    "        st = 0.5\n",
    "        b2 = torch.nn.functional.interpolate(b0, scale_factor=st, mode=int_mode)\n",
    "        print('start')\n",
    "        dets_s = infer_batch(net, b2, means, thresh, cuda, st)\n",
    "        print('stop')\n",
    "        index = [np.where(np.maximum(i[..., 2] - i[..., 0] + 1, i[..., 3] - i[..., 1] + 1) > 30)[0] for i in dets_s]\n",
    "        dets_s = [i[j, :] for i,j in zip(dets_s, index)]\n",
    "\n",
    "        bt = 2\n",
    "        b3 = torch.nn.functional.interpolate(b0, scale_factor=bt, mode=int_mode)\n",
    "        print('start3')\n",
    "        dets_b = infer_batch(net, b3, means, thresh, cuda, bt)\n",
    "        print('stop3')\n",
    "        b4 = torch.nn.functional.interpolate(b0, scale_factor=max_im_shrink, mode=int_mode)\n",
    "        print('start4')\n",
    "        dets_b = [np.row_stack(i) for i in zip(dets_b, infer_batch(net, b4, means, thresh, cuda, max_im_shrink) )]\n",
    "        print('stop4')\n",
    "        dets = [np.row_stack((i0, i1, i_s, i_b)) for i0, i1, i_s, i_b in zip(dets0,dets1,dets_s,dets_b)]\n",
    "        all_dets = all_dets + [bbox_vote(det) for det in dets]\n",
    "\n",
    "\n",
    "\n",
    "end = time.time()\n",
    "print('Total time taken is: ', end-start)"
   ]
  },
  {
   "cell_type": "code",
   "execution_count": null,
   "metadata": {},
   "outputs": [],
   "source": [
    "for idx, batch in enumerate(data_loader_a):\n",
    "    if idx == 0:\n",
    "        break\n",
    "        \n"
   ]
  },
  {
   "cell_type": "code",
   "execution_count": null,
   "metadata": {},
   "outputs": [],
   "source": [
    "i = 1\n",
    "plt.subplot(1,2,1)\n",
    "plt.imshow(batch[0][i,...].permute(1,2,0))\n",
    "bflip = batch[0].flip(-1)\n",
    "plt.subplot(1,2,2)\n",
    "plt.imshow(bflip[i,...].permute(1,2,0))"
   ]
  },
  {
   "cell_type": "code",
   "execution_count": null,
   "metadata": {},
   "outputs": [],
   "source": [
    "up = torch.nn.functional.interpolate(batch[0], scale_factor=max_im_shrink)\n",
    "up.shape"
   ]
  },
  {
   "cell_type": "code",
   "execution_count": null,
   "metadata": {},
   "outputs": [],
   "source": [
    "i = 1\n",
    "plt.subplot(1,2,1)\n",
    "plt.imshow(batch[0][i,...].permute(1,2,0))\n",
    "bflip = batch[0].flip(-1)\n",
    "plt.subplot(1,2,2)\n",
    "plt.imshow(up[i,...].permute(1,2,0))"
   ]
  },
  {
   "cell_type": "code",
   "execution_count": null,
   "metadata": {},
   "outputs": [],
   "source": [
    "max_im_shrink = 2000/IMG_Size"
   ]
  },
  {
   "cell_type": "code",
   "execution_count": null,
   "metadata": {},
   "outputs": [],
   "source": [
    "for idx, data in enumerate(data_loader):\n",
    "    b0,b1,b2,b3,b4 = data\n",
    "    if idx > 5:\n",
    "        break\n",
    "    "
   ]
  },
  {
   "cell_type": "code",
   "execution_count": null,
   "metadata": {},
   "outputs": [],
   "source": [
    "start = time.time()\n",
    "means = (104, 117, 123)\n",
    "\n",
    "thresh = cfg['conf_thresh']\n",
    "b0 = batch[0]\n",
    "\n",
    "max_im_shrink = 2000/IMG_Size\n",
    "\n",
    "shrink = 1\n",
    "dets0 = infer_batch(net, b0, means, thresh, cuda, shrink)\n",
    "\n",
    "b1 = b0.flip(-1)\n",
    "dets1 = infer_flip_batch(net, b1, means, thresh, cuda, shrink)\n",
    "\n",
    "st = 0.5\n",
    "b1 = torch.nn.functional.interpolate(b0, scale_factor=st, mode='bilinear')\n",
    "dets_s = infer_batch(net, b1, means, thresh, cuda, st)\n",
    "index = [np.where(np.maximum(i[..., 2] - i[..., 0] + 1, i[..., 3] - i[..., 1] + 1) > 30)[0] for i in dets_s]\n",
    "dets_s = [i[j, :] for i,j in zip(dets_s, index)]\n",
    "\n",
    "bt = 2\n",
    "b1 = torch.nn.functional.interpolate(b0, scale_factor=bt, mode='bilinear')\n",
    "dets_b = infer_batch(net, b1, means, thresh, cuda, bt)\n",
    "\n",
    "b1 = torch.nn.functional.interpolate(b0, scale_factor=max_im_shrink, mode='bilinear')\n",
    "dets_b = [np.row_stack(i) for i in zip(dets_b, infer_batch(net, b1, means, thresh, cuda, max_im_shrink) )]\n",
    "\n",
    "dets = [np.row_stack((i0, i1, i_s, i_b)) for i0, i1, i_s, i_b in zip(dets0,dets1,dets_s,dets_b)]\n",
    "all_dets = all_dets + [bbox_vote(det) for det in dets]\n",
    "\n",
    "end = time.time()\n",
    "\n",
    "print(end-start)"
   ]
  },
  {
   "cell_type": "markdown",
   "metadata": {},
   "source": [
    "## Perform inference on an image\n",
    "\n",
    "### Select Image"
   ]
  },
  {
   "cell_type": "code",
   "execution_count": null,
   "metadata": {},
   "outputs": [],
   "source": [
    "cuda = cuda\n",
    "transform = TestBaseTransform((104, 117, 123))\n",
    "thresh=cfg['conf_thresh']\n",
    "img_id = 'face'\n",
    "\n",
    "from_memory = True\n",
    "data_loader = data_loader_b\n",
    "img_num = 1\n",
    "\n",
    "if from_memory:\n",
    "#     img_root = '../face-detection-project-prakash/img.jpg'\n",
    "    img_root = './data/worlds-largest-selfie.jpg'\n",
    "    path = img_root\n",
    "    img = cv2.imread(path, cv2.IMREAD_COLOR)\n",
    "else: \n",
    "    img = data_loader.dataset[img_num][0].permute(1,2,0).numpy()\n",
    "    img = img[:,:,::-1]*255\n",
    "\n"
   ]
  },
  {
   "cell_type": "code",
   "execution_count": null,
   "metadata": {},
   "outputs": [],
   "source": [
    "max_im_shrink = ( (2000.0*2000.0) / (img.shape[0] * img.shape[1])) ** 0.5\n",
    "shrink = max_im_shrink if max_im_shrink < 1 else 1\n",
    "x = torch.from_numpy(transform(img)[0]).permute(2, 0, 1)\n",
    "\n",
    "\n",
    "print(x)"
   ]
  },
  {
   "cell_type": "markdown",
   "metadata": {},
   "source": [
    "### Inference Code"
   ]
  },
  {
   "cell_type": "code",
   "execution_count": null,
   "metadata": {},
   "outputs": [],
   "source": [
    "max_im_shrink = ( (2000.0*2000.0) / (img.shape[0] * img.shape[1])) ** 0.5\n",
    "shrink = max_im_shrink if max_im_shrink < 1 else 1\n",
    "\n",
    "\n",
    "\n",
    "det0 = infer(net , img , transform , thresh , cuda , shrink)\n",
    "det1 = infer_flip(net , img , transform , thresh , cuda , shrink)\n",
    "\n",
    "\n",
    "# shrink detecting and shrink only detect big face\n",
    "st = 0.5 if max_im_shrink >= 0.75 else 0.5 * max_im_shrink\n",
    "det_s = infer(net , img , transform , thresh , cuda , st)\n",
    "index = np.where(np.maximum(det_s[:, 2] - det_s[:, 0] + 1, det_s[:, 3] - det_s[:, 1] + 1) > 30)[0]\n",
    "det_s = det_s[index, :]\n",
    "\n",
    "\n",
    "# enlarge one times\n",
    "factor = 2\n",
    "bt = min(factor, max_im_shrink) if max_im_shrink > 1 else (st + max_im_shrink) / 2\n",
    "det_b = infer(net , img , transform , thresh , cuda , bt)\n",
    "\n",
    "\n",
    "# enlarge small iamge x times for small face\n",
    "if max_im_shrink > factor:\n",
    "    bt *= factor\n",
    "    while bt < max_im_shrink:\n",
    "        det_b = np.row_stack((det_b, infer(net , img , transform , thresh , cuda , bt)))\n",
    "        bt *= factor\n",
    "    det_b = np.row_stack((det_b, infer(net , img , transform , thresh , cuda , max_im_shrink) ))\n",
    "\n",
    "\n",
    "    \n",
    "if bt > 1:\n",
    "    index = np.where(np.minimum(det_b[:, 2] - det_b[:, 0] + 1, det_b[:, 3] - det_b[:, 1] + 1) < 100)[0]\n",
    "    det_b = det_b[index, :]\n",
    "else:\n",
    "    index = np.where(np.maximum(det_b[:, 2] - det_b[:, 0] + 1, det_b[:, 3] - det_b[:, 1] + 1) > 30)[0]\n",
    "    det_b = det_b[index, :]\n",
    "\n",
    "    \n",
    "det = np.row_stack((det0, det1, det_s, det_b))\n",
    "det = bbox_vote(det)"
   ]
  },
  {
   "cell_type": "markdown",
   "metadata": {},
   "source": [
    "### Visualize output"
   ]
  },
  {
   "cell_type": "code",
   "execution_count": null,
   "metadata": {},
   "outputs": [],
   "source": [
    "vis_detections(img.astype(np.int32) , det , 'img_id', 0.5, plot_only=True)"
   ]
  },
  {
   "cell_type": "code",
   "execution_count": null,
   "metadata": {},
   "outputs": [],
   "source": [
    "img_orig = data_loader_a.dataset[img_num][0].permute(1,2,0).numpy()\n",
    "img_orig = img_orig[:,:,::-1]*255\n",
    "scale = np.array(img_orig.shape[0:2])/IMG_Size\n",
    "scale = np.tile(scale[::-1], 2)\n",
    "print(scale)\n",
    "det_mod = det.copy()\n",
    "det_mod[:,:4] = det_mod[:,:4]*scale\n",
    "print(det, det_mod)"
   ]
  },
  {
   "cell_type": "code",
   "execution_count": null,
   "metadata": {},
   "outputs": [],
   "source": [
    "img_num = 0\n",
    "img_orig = b0[img_num].permute(1,2,0).numpy()\n",
    "img_orig = img_orig[:,:,::-1]*255\n",
    "scale = np.array(img_orig.shape[0:2])/IMG_Size\n",
    "scale = np.tile(scale[::-1], 2)\n",
    "print(scale)\n",
    "det_mod = dets[img_num].copy()\n",
    "det_mod[:,:4] = det_mod[:,:4]*scale\n",
    "print( dets[img_num][:,4])"
   ]
  },
  {
   "cell_type": "code",
   "execution_count": null,
   "metadata": {},
   "outputs": [],
   "source": [
    "vis_detections(img_orig.astype(np.int32) , det_mod , 'img_id', 0.9, plot_only=True)"
   ]
  },
  {
   "cell_type": "code",
   "execution_count": null,
   "metadata": {},
   "outputs": [],
   "source": [
    "plt.imshow(img_orig.astype(np.int32))"
   ]
  },
  {
   "cell_type": "markdown",
   "metadata": {},
   "source": [
    "## Create Imagenet Shape Vector and Save it \n",
    "#### for fixing box sizes after inference"
   ]
  },
  {
   "cell_type": "code",
   "execution_count": null,
   "metadata": {},
   "outputs": [],
   "source": [
    "start_idx = 0\n",
    "batch_size = 100000\n",
    "end_idx = start_idx + batch_size\n",
    "\n",
    "for j in range(10):\n",
    "    shapes = []\n",
    "    for i, (im, _) in enumerate(imagenet_data_a):\n",
    "        if i < start_idx:\n",
    "            continue\n",
    "        shapes.append(im.numpy().shape[1:])\n",
    "        if i>=end_idx:\n",
    "            start_idx = end_idx\n",
    "            end_idx = start_idx + batch_size\n",
    "            break\n",
    "        \n",
    "    shapes = np.array(shapes)\n",
    "    np.savetxt('imagenet_shapes_'+str(start_idx)+'_to_'+str(end_idx)+'.csv',\n",
    "                       shapes, fmt='%d',delimiter= ',')\n",
    "    print('Saved image shapes starting between', start_idx, 'and', end_idx)"
   ]
  },
  {
   "cell_type": "code",
   "execution_count": null,
   "metadata": {},
   "outputs": [],
   "source": [
    "mini = torch.utils.data.Subset(data_loader_a.dataset, )"
   ]
  },
  {
   "cell_type": "code",
   "execution_count": null,
   "metadata": {},
   "outputs": [],
   "source": [
    "plt.imshow(data_loader.dataset[0][0].permute(1,2,0))\n",
    "x = data_loader.dataset[0][0]\n",
    "x = Variable(x.unsqueeze(0)).cuda()\n",
    "print(data_loader.dataset[0][0].permute(1,2,0))"
   ]
  },
  {
   "cell_type": "code",
   "execution_count": null,
   "metadata": {},
   "outputs": [],
   "source": [
    "y_t = net(x)"
   ]
  },
  {
   "cell_type": "code",
   "execution_count": null,
   "metadata": {},
   "outputs": [],
   "source": [
    "detections = y_t.data\n",
    "\n",
    "print(detections.shape)"
   ]
  },
  {
   "cell_type": "code",
   "execution_count": null,
   "metadata": {},
   "outputs": [],
   "source": [
    "det = []\n",
    "for i in range(detections.size(1)):\n",
    "    j = 0\n",
    "    while detections[0, i, j, 0] >= 0.1:\n",
    "        score = detections[0, i, j, 0]\n",
    "        score = score.cpu().numpy()\n",
    "        #label_name = labelmap[i-1]\n",
    "        pt = (detections[0, i, j, 1:]*scale).cpu().numpy()\n",
    "        coords = (pt[0], pt[1], pt[2], pt[3]) \n",
    "        det.append([pt[0], pt[1], pt[2], pt[3], score])\n",
    "        j += 1\n",
    "if (len(det)) == 0:\n",
    "    det = [ [0.1,0.1,0.2,0.2,0.01] ]\n",
    "det = np.array(det)"
   ]
  },
  {
   "cell_type": "code",
   "execution_count": null,
   "metadata": {},
   "outputs": [],
   "source": [
    "print(b4.shape)"
   ]
  },
  {
   "cell_type": "code",
   "execution_count": null,
   "metadata": {},
   "outputs": [],
   "source": [
    "print(len(dets), len(dets[0]))\n",
    "for i in range(len(dets)):\n",
    "    print(len(dets[i]))"
   ]
  },
  {
   "cell_type": "code",
   "execution_count": null,
   "metadata": {},
   "outputs": [],
   "source": [
    "import joblib\n",
    "joblib.dump(dets, 'boxes.pkl')"
   ]
  },
  {
   "cell_type": "code",
   "execution_count": null,
   "metadata": {},
   "outputs": [],
   "source": [
    "print(batch[0].shape)\n",
    "tfm = torch.from_numpy(np.array((104, 117, 123)))\n",
    "tfm = tfm.unsqueeze(-1)\n",
    "tfm = tfm.unsqueeze(-1)\n",
    "print(tfm.shape)\n",
    "# batch[0].type(torch.FloatTensor)*255- tfm.type(torch.FloatTensor)\n",
    "x = batch[0].float()*255 - tfm.float()\n",
    "x.shape\n"
   ]
  },
  {
   "cell_type": "code",
   "execution_count": null,
   "metadata": {},
   "outputs": [],
   "source": [
    "for i in range(16):\n",
    "    plt.subplot(4,4,i+1)\n",
    "    plt.imshow(batch[0][i].permute(1,2,0))\n",
    "plt.subplots_adjust(left = 0.0, right = 2, wspace=0.0, top=2, bottom=0)\n",
    "\n"
   ]
  },
  {
   "cell_type": "code",
   "execution_count": null,
   "metadata": {},
   "outputs": [],
   "source": [
    "\n",
    "for i in range(16):\n",
    "    plt.subplot(4,4,i+1)\n",
    "    plt.imshow(data_loader_a.dataset[i][0].permute(1,2,0))\n",
    "plt.subplots_adjust(left = 0.0, right = 2, wspace=0.0, top=2, bottom=0)"
   ]
  },
  {
   "cell_type": "code",
   "execution_count": null,
   "metadata": {},
   "outputs": [],
   "source": [
    "import copy\n",
    "imagenet_data_c = copy.copy(imagenet_data_a)\n",
    "imagenet_data_c.transform = transform_b\n",
    "imagenet_data_c.transform"
   ]
  },
  {
   "cell_type": "code",
   "execution_count": null,
   "metadata": {},
   "outputs": [],
   "source": [
    "batch = batch[0]"
   ]
  },
  {
   "cell_type": "code",
   "execution_count": null,
   "metadata": {},
   "outputs": [],
   "source": [
    "\n",
    "means = (104, 117, 123)\n",
    "img_size = 640\n",
    "\n",
    "# del x,  tfm\n",
    "# torch.cuda.empty_cache()\n",
    "\n",
    "\n",
    "with torch.no_grad():\n",
    "    tfm = torch.from_numpy(np.array(means))\n",
    "    tfm = tfm.unsqueeze(-1)\n",
    "    tfm = tfm.unsqueeze(-1)\n",
    "\n",
    "    x = 255*batch.float() - tfm.float()\n",
    "    x = Variable(x)\n",
    "    if cuda:\n",
    "        x = x.cuda()\n",
    "\n",
    "    y = net(x) \n",
    "    detections = y.data\n",
    "\n",
    "    shrink = 1\n",
    "    scale = torch.Tensor([img_size/shrink, img_size/shrink,\n",
    "                                 img_size/shrink, img_size/shrink] )\n",
    "    \n",
    "    \n",
    "    \n",
    "    "
   ]
  },
  {
   "cell_type": "code",
   "execution_count": null,
   "metadata": {},
   "outputs": [],
   "source": [
    "print(detections[:,0,:,:].shape, detections[:,1,:,:].shape)\n",
    "\n",
    "temp = torch.cat([detections[:,0,:,:], detections[:,1,:,:]], dim=1)\n",
    "temp.shape\n",
    "\n",
    "score = temp[:,:,0]\n",
    "score = score.unsqueeze(-1)\n",
    "pt = temp[:,:,1:]*scale\n",
    "\n",
    "print('asd', score.shape, pt.shape)\n",
    "\n",
    "det = torch.cat([pt, score], dim=2)\n",
    "# det = temp\n",
    "print(det.shape)"
   ]
  },
  {
   "cell_type": "code",
   "execution_count": null,
   "metadata": {},
   "outputs": [],
   "source": [
    "det_ = det.cpu().numpy()\n",
    "\n",
    "dets = []\n",
    "\n",
    "for i in range(det_.shape[0]):\n",
    "    curr_det = det_[i,...]\n",
    "    keep_index = np.where(curr_det[:,4] > 0)[0]\n",
    "    curr_det = curr_det[keep_index, :]\n",
    "    dets.append(curr_det)\n",
    "    print(curr_det.shape, curr_det)\n",
    "    \n",
    "    \n",
    "print(len(dets))"
   ]
  },
  {
   "cell_type": "code",
   "execution_count": null,
   "metadata": {},
   "outputs": [],
   "source": []
  },
  {
   "cell_type": "code",
   "execution_count": null,
   "metadata": {},
   "outputs": [],
   "source": [
    "chk_det = np.row_stack((det0, det1, det_s, det_b))"
   ]
  },
  {
   "cell_type": "code",
   "execution_count": null,
   "metadata": {},
   "outputs": [],
   "source": [
    "chk_det.shape\n",
    "order = chk_det[:, 4].ravel().argsort()[::-1]\n",
    "print(order)"
   ]
  },
  {
   "cell_type": "code",
   "execution_count": null,
   "metadata": {},
   "outputs": [],
   "source": [
    "# print(img, data_loader.dataset[0][0])\n",
    "# print(np.max(img))\n",
    "# plt.imshow(img)\n",
    "img.shape"
   ]
  }
 ],
 "metadata": {
  "kernelspec": {
   "display_name": "Python 3",
   "language": "python",
   "name": "python3"
  },
  "language_info": {
   "codemirror_mode": {
    "name": "ipython",
    "version": 3
   },
   "file_extension": ".py",
   "mimetype": "text/x-python",
   "name": "python",
   "nbconvert_exporter": "python",
   "pygments_lexer": "ipython3",
   "version": "3.7.3"
  }
 },
 "nbformat": 4,
 "nbformat_minor": 4
}
